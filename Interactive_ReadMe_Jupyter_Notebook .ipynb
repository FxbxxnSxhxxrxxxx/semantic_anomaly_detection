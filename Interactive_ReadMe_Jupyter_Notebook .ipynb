{
 "cells": [
  {
   "cell_type": "markdown",
   "id": "89ab6bc8",
   "metadata": {},
   "source": [
    "# <span style=\"color:darkgreen\">Interactive ReadMe Jupyter Notebook</span>"
   ]
  },
  {
   "cell_type": "markdown",
   "id": "9f8ef2ed",
   "metadata": {},
   "source": [
    "**Note:** Ensure that you create or mirror the appropriate dependencies within the conda environment using the `smad_conda_environment.yml` file before proceeding. Navigate into this file's folder and create the corresponding conda environment using the command:\n",
    "\n",
    "\"conda env create -f smad_conda_environment.yml\"\n",
    "\n",
    "\n",
    "This code was developed using Conda Version 23.5.2.\n",
    "\n",
    "For more detailed explanations, please refer to the comments within each underlying Python script or contact the author of this code at [fabian.schlarmann@boehringer-ingelheim.com](mailto:fabian.schlarmann@boehringer-ingelheim.com).\n"
   ]
  },
  {
   "cell_type": "markdown",
   "id": "64315b61",
   "metadata": {},
   "source": [
    "##### <span style=\"color:red\">Conda Environment & Dependencies Should Be Checked Before Executing Code:</span>"
   ]
  },
  {
   "cell_type": "code",
   "execution_count": 1,
   "id": "f94dface",
   "metadata": {
    "scrolled": true
   },
   "outputs": [],
   "source": [
    "# %run check_dependencies.py"
   ]
  },
  {
   "cell_type": "markdown",
   "id": "586816a0",
   "metadata": {},
   "source": [
    "##### <span style=\"color:red\">Import Libraries</span>"
   ]
  },
  {
   "cell_type": "code",
   "execution_count": 2,
   "id": "1d91c9ee",
   "metadata": {},
   "outputs": [],
   "source": [
    "# import time\n",
    "# from log_entries_anomaly_detection import prepare_environment, prepare_log_data, fit, apply_anomaly_detection"
   ]
  },
  {
   "cell_type": "markdown",
   "id": "573d7f0e",
   "metadata": {},
   "source": [
    "### Prepare Environment"
   ]
  },
  {
   "cell_type": "markdown",
   "id": "5e09b65d",
   "metadata": {},
   "source": [
    "This function ensures the creation of the necessary subfolders for successful execution if they don't already exist."
   ]
  },
  {
   "cell_type": "code",
   "execution_count": 3,
   "id": "e93bb6b1",
   "metadata": {},
   "outputs": [],
   "source": [
    "# prepare_environment()"
   ]
  },
  {
   "cell_type": "markdown",
   "id": "3ce06ae9",
   "metadata": {},
   "source": [
    "### Prepare Datasets"
   ]
  },
  {
   "cell_type": "markdown",
   "id": "902bd807",
   "metadata": {},
   "source": [
    "<span style=\"color:red\">Each</span> dataset, whether for analysis or model training, must undergo preprocessing."
   ]
  },
  {
   "cell_type": "code",
   "execution_count": 4,
   "id": "ec689028",
   "metadata": {},
   "outputs": [],
   "source": [
    "# prepare_log_data('**name_of_raw_data**')"
   ]
  },
  {
   "cell_type": "markdown",
   "id": "9aa95bc6",
   "metadata": {},
   "source": [
    "### Fit Model"
   ]
  },
  {
   "cell_type": "markdown",
   "id": "18acfd97",
   "metadata": {},
   "source": [
    "<span style=\"color:red\">Before</span> training a new model, check for a corresponding existing model for the data that is about to be analyzed by examining the following subfolders and files:\n",
    "\n",
    "1. **lake_vectorization_models**\n",
    "   - `vectorization_model_**name_of_raw_data**`\n",
    "   - `vectorization_model_**name_of_raw_data**.dv.vectors.npy`\n",
    "2. **lake_sorted_scores_train_log_data**\n",
    "   - `sorted_scores_train_**name_of_raw_data**.pkl`\n",
    "3. **lake_anomaly_detection_models**\n",
    "   - `anomaly_detection_model_**name_of_raw_data**.pkl`"
   ]
  },
  {
   "cell_type": "code",
   "execution_count": 5,
   "id": "1d869104",
   "metadata": {},
   "outputs": [],
   "source": [
    "# start_time = time.time()\n",
    "# fit('**name_of_raw_data**', dbow_words=0, vector_size=300, window=15, min_count=5, negative=5, epochs=20, n_estimators=100)\n",
    "# end_time = time.time()"
   ]
  },
  {
   "cell_type": "code",
   "execution_count": 6,
   "id": "10edfc4a",
   "metadata": {},
   "outputs": [],
   "source": [
    "# execution_time = end_time - start_time\n",
    "# print(f\"Execution time: {execution_time} seconds\")"
   ]
  },
  {
   "cell_type": "markdown",
   "id": "d766d6ae",
   "metadata": {},
   "source": [
    "### Apply Trained Model"
   ]
  },
  {
   "cell_type": "markdown",
   "id": "58cf2c25",
   "metadata": {},
   "source": [
    "After <span style=\"color:red\">ensuring</span> the existence of a pretrained model, either by checking the aforementioned subfolders in the 'Fit Model' section or through recent training in this exact section, <span style=\"color:red\">pay attention</span> to the fact that the dataset to be analyzed needs to be preprocessed before applying the model."
   ]
  },
  {
   "cell_type": "code",
   "execution_count": 7,
   "id": "bffba2a3",
   "metadata": {},
   "outputs": [],
   "source": [
    "# start_time = time.time()\n",
    "# apply_anomaly_detection('**name_of_preprocessed_data**', percentage_threshold=5, model='all_messages')\n",
    "# end_time = time.time()"
   ]
  },
  {
   "cell_type": "code",
   "execution_count": 8,
   "id": "a65b53ba",
   "metadata": {},
   "outputs": [],
   "source": [
    "# execution_time = end_time - start_time\n",
    "# print(f\"Execution time: {execution_time} seconds\")"
   ]
  },
  {
   "cell_type": "markdown",
   "id": "b2cdff37",
   "metadata": {},
   "source": [
    "# <span style=\"color:orange\">Important Note</span>"
   ]
  },
  {
   "cell_type": "markdown",
   "id": "1ca5a805",
   "metadata": {},
   "source": [
    "When operating in the shell command line, you have the ability to directly apply already trained models to raw datasets. These datasets need to be saved in the 'lake_raw_data' subfolder. The script `perform_smad.py` is located in this folder. To execute the script, navigate to the file's folder and run the following command: `./perform_smad.py`."
   ]
  },
  {
   "cell_type": "code",
   "execution_count": null,
   "id": "91871793",
   "metadata": {},
   "outputs": [],
   "source": []
  }
 ],
 "metadata": {
  "kernelspec": {
   "display_name": "Python 3",
   "language": "python",
   "name": "python3"
  },
  "language_info": {
   "codemirror_mode": {
    "name": "ipython",
    "version": 3
   },
   "file_extension": ".py",
   "mimetype": "text/x-python",
   "name": "python",
   "nbconvert_exporter": "python",
   "pygments_lexer": "ipython3",
   "version": "3.11.3"
  }
 },
 "nbformat": 4,
 "nbformat_minor": 5
}
